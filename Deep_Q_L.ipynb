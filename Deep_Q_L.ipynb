{
  "nbformat": 4,
  "nbformat_minor": 0,
  "metadata": {
    "colab": {
      "provenance": []
    },
    "kernelspec": {
      "name": "python3",
      "display_name": "Python 3"
    },
    "language_info": {
      "name": "python"
    }
  },
  "cells": [
    {
      "cell_type": "code",
      "execution_count": 1,
      "metadata": {
        "colab": {
          "base_uri": "https://localhost:8080/"
        },
        "id": "lqfVVnB68Cc6",
        "outputId": "2d7f157e-c37c-4102-e242-5b76de794e2c"
      },
      "outputs": [
        {
          "output_type": "stream",
          "name": "stdout",
          "text": [
            "Requirement already satisfied: numpy in /usr/local/lib/python3.10/dist-packages (1.25.2)\n",
            "Requirement already satisfied: matplotlib in /usr/local/lib/python3.10/dist-packages (3.7.1)\n",
            "Requirement already satisfied: contourpy>=1.0.1 in /usr/local/lib/python3.10/dist-packages (from matplotlib) (1.2.0)\n",
            "Requirement already satisfied: cycler>=0.10 in /usr/local/lib/python3.10/dist-packages (from matplotlib) (0.12.1)\n",
            "Requirement already satisfied: fonttools>=4.22.0 in /usr/local/lib/python3.10/dist-packages (from matplotlib) (4.49.0)\n",
            "Requirement already satisfied: kiwisolver>=1.0.1 in /usr/local/lib/python3.10/dist-packages (from matplotlib) (1.4.5)\n",
            "Requirement already satisfied: numpy>=1.20 in /usr/local/lib/python3.10/dist-packages (from matplotlib) (1.25.2)\n",
            "Requirement already satisfied: packaging>=20.0 in /usr/local/lib/python3.10/dist-packages (from matplotlib) (24.0)\n",
            "Requirement already satisfied: pillow>=6.2.0 in /usr/local/lib/python3.10/dist-packages (from matplotlib) (9.4.0)\n",
            "Requirement already satisfied: pyparsing>=2.3.1 in /usr/local/lib/python3.10/dist-packages (from matplotlib) (3.1.2)\n",
            "Requirement already satisfied: python-dateutil>=2.7 in /usr/local/lib/python3.10/dist-packages (from matplotlib) (2.8.2)\n",
            "Requirement already satisfied: six>=1.5 in /usr/local/lib/python3.10/dist-packages (from python-dateutil>=2.7->matplotlib) (1.16.0)\n"
          ]
        }
      ],
      "source": [
        "!pip install numpy\n",
        "!pip install matplotlib"
      ]
    },
    {
      "cell_type": "code",
      "source": [
        "import torch\n",
        "import torch.nn as nn\n",
        "import torch.optim as optim\n",
        "import numpy as np\n",
        "\n",
        "# Definição do ambiente (estado, ação, recompensa)\n",
        "# Vamos criar um ambiente simplificado para fins de demonstração\n",
        "\n",
        "class Environment:\n",
        "    def __init__(self):\n",
        "        self.state_dim = 2  # Dimensão do estado (posição da bola e raquete)\n",
        "        self.action_dim = 3  # Número de ações possíveis (esquerda, parado, direita)\n",
        "\n",
        "    def reset(self):\n",
        "        # Retorna um estado inicial aleatório\n",
        "        return np.random.rand(self.state_dim)\n",
        "\n",
        "    def step(self, action):\n",
        "        # Simula uma ação no ambiente e retorna o próximo estado e a recompensa\n",
        "        next_state = np.random.rand(self.state_dim)\n",
        "        reward = np.random.rand()  # Recompensa aleatória para fins de demonstração\n",
        "        return next_state, reward\n",
        "\n",
        "# Definição da rede neural\n",
        "class QNetwork(nn.Module):\n",
        "    def __init__(self, state_dim, action_dim):\n",
        "        super(QNetwork, self).__init__()\n",
        "        self.fc1 = nn.Linear(state_dim, 64)\n",
        "        self.fc2 = nn.Linear(64, 64)\n",
        "        self.fc3 = nn.Linear(64, action_dim)\n",
        "\n",
        "    def forward(self, x):\n",
        "        x = torch.relu(self.fc1(x))\n",
        "        x = torch.relu(self.fc2(x))\n",
        "        x = self.fc3(x)\n",
        "        return x\n",
        "\n",
        "# Parâmetros\n",
        "alpha = 0.01  # Taxa de aprendizado\n",
        "gamma = 0.99  # Fator de desconto\n",
        "epsilon = 1.0  # Valor inicial de epsilon para epsilon-greedy\n",
        "epsilon_decay = 0.995  # Decaimento de epsilon\n",
        "min_epsilon = 0.01  # Valor mínimo de epsilon\n",
        "batch_size = 32  # Tamanho do lote\n",
        "replay_buffer_size = 1000  # Tamanho do buffer de repetição\n",
        "\n",
        "# Inicialização do ambiente, rede neural e otimizador\n",
        "env = Environment()\n",
        "q_network = QNetwork(env.state_dim, env.action_dim)\n",
        "optimizer = optim.Adam(q_network.parameters(), lr=alpha)\n",
        "\n",
        "# Loop de treinamento\n",
        "epsilon = 1.0\n",
        "for episode in range(1000):\n",
        "    state = env.reset()\n",
        "    done = False\n",
        "    total_reward = 0\n",
        "\n",
        "    while not done:\n",
        "        # Escolhe uma ação epsilon-greedy\n",
        "        if np.random.rand() < epsilon:\n",
        "            action = np.random.randint(env.action_dim)\n",
        "        else:\n",
        "            state_tensor = torch.FloatTensor(state)\n",
        "            q_values = q_network(state_tensor)\n",
        "            action = torch.argmax(q_values).item()\n",
        "\n",
        "        # Executa a ação e observa o próximo estado e a recompensa\n",
        "        next_state, reward = env.step(action)\n",
        "        total_reward += reward\n",
        "\n",
        "        # Armazena a transição na memória de repetição\n",
        "        # Aqui, você precisaria implementar um buffer de repetição\n",
        "\n",
        "        # Atualiza o estado atual\n",
        "        state = next_state\n",
        "\n",
        "    # Atualiza epsilon\n",
        "    epsilon = max(min_epsilon, epsilon * epsilon_decay)\n",
        "\n",
        "    # Exibe a recompensa total do episódio\n",
        "    print(f\"Episode {episode + 1}, Total Reward: {total_reward}\")\n",
        "\n",
        "# Após o treinamento, você pode usar a rede neural para tomar ações no ambiente\n",
        "# Por exemplo, você pode usar a rede treinada para jogar o jogo sem treinamento adicional\n"
      ],
      "metadata": {
        "id": "4bK-TSln89qI"
      },
      "execution_count": null,
      "outputs": []
    }
  ]
}