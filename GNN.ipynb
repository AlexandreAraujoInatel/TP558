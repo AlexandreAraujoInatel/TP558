{
  "nbformat": 4,
  "nbformat_minor": 0,
  "metadata": {
    "colab": {
      "provenance": []
    },
    "kernelspec": {
      "name": "python3",
      "display_name": "Python 3"
    },
    "language_info": {
      "name": "python"
    }
  },
  "cells": [
    {
      "cell_type": "code",
      "execution_count": 1,
      "metadata": {
        "colab": {
          "base_uri": "https://localhost:8080/"
        },
        "id": "jc7HH9Hzw1vv",
        "outputId": "050e24ee-fe2d-46de-ea92-81df005ae64f"
      },
      "outputs": [
        {
          "output_type": "stream",
          "name": "stdout",
          "text": [
            "Saída da GNN:\n",
            "tensor([[0.0000, 0.0364],\n",
            "        [0.0000, 0.0239],\n",
            "        [0.0000, 0.0114]], grad_fn=<ReluBackward0>)\n"
          ]
        }
      ],
      "source": [
        "import torch\n",
        "import torch.nn as nn\n",
        "import torch.nn.functional as F\n",
        "\n",
        "class GraphConvolution(nn.Module):\n",
        "    def __init__(self, input_dim, output_dim):\n",
        "        super(GraphConvolution, self).__init__()\n",
        "        self.linear = nn.Linear(input_dim, output_dim)\n",
        "\n",
        "    def forward(self, x, adj_matrix):\n",
        "        out = torch.matmul(adj_matrix, x)\n",
        "        out = self.linear(out)\n",
        "        return out\n",
        "\n",
        "class GraphNeuralNetwork(nn.Module):\n",
        "    def __init__(self, input_dim, hidden_dim, output_dim):\n",
        "        super(GraphNeuralNetwork, self).__init__()\n",
        "        self.gc1 = GraphConvolution(input_dim, hidden_dim)\n",
        "        self.gc2 = GraphConvolution(hidden_dim, output_dim)\n",
        "\n",
        "    def forward(self, x, adj_matrix):\n",
        "        x = F.relu(self.gc1(x, adj_matrix))\n",
        "        x = F.relu(self.gc2(x, adj_matrix))\n",
        "        return x\n",
        "\n",
        "# Exemplo de uso:\n",
        "# Suponha que tenhamos um grafo representado por uma matriz de adjacência e recursos para cada nó.\n",
        "# Aqui está um exemplo simples:\n",
        "\n",
        "# Matriz de adjacência de exemplo\n",
        "adj_matrix = torch.tensor([[0, 1, 1],\n",
        "                            [1, 0, 1],\n",
        "                            [1, 1, 0]], dtype=torch.float32)\n",
        "\n",
        "# Recursos de exemplo para cada nó\n",
        "node_features = torch.tensor([[0.1, 0.2],\n",
        "                               [0.2, 0.3],\n",
        "                               [0.3, 0.4]], dtype=torch.float32)\n",
        "\n",
        "# Definindo a GNN\n",
        "input_dim = node_features.shape[1]\n",
        "hidden_dim = 16\n",
        "output_dim = 2\n",
        "model = GraphNeuralNetwork(input_dim, hidden_dim, output_dim)\n",
        "\n",
        "# Passando os recursos dos nós e a matriz de adjacência pela GNN\n",
        "output = model(node_features, adj_matrix)\n",
        "\n",
        "print(\"Saída da GNN:\")\n",
        "print(output)\n"
      ]
    }
  ]
}